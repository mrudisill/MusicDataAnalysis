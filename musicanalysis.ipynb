{
 "cells": [
  {
   "cell_type": "markdown",
   "metadata": {},
   "source": [
    "# Music Data Analysis"
   ]
  },
  {
   "cell_type": "markdown",
   "metadata": {},
   "source": [
    "November 2024 -- Molly Rudisill\n",
    "\n",
    "A simple data analysis on users, artist, and artist plays to respond to general queries and create musical recomendations."
   ]
  },
  {
   "cell_type": "markdown",
   "metadata": {},
   "source": [
    "link to dataset: https://grouplens.org/datasets/hetrec-2011/\n",
    "- files include: \n",
    "    - artist.dat\n",
    "    - readme.txt\n",
    "    - user_artists.dat\n",
    "    - user_friends.dat\n",
    "    - user_taggedartist.dat"
   ]
  },
  {
   "cell_type": "code",
   "execution_count": 1,
   "metadata": {},
   "outputs": [],
   "source": [
    "import pandas as pd\n",
    "import numpy as np"
   ]
  },
  {
   "cell_type": "markdown",
   "metadata": {},
   "source": [
    "## Data Loading and Preparing"
   ]
  },
  {
   "cell_type": "code",
   "execution_count": 2,
   "metadata": {},
   "outputs": [],
   "source": [
    "# Load and clean the artists dataset\n",
    "artists_df = pd.read_table('/Users/mollyrudisill/INLS570_fall2024/project2/hetrec2011-lastfm-2k/artists.dat', \n",
    "                          encoding=\"utf-8\", sep=\"\\t\", index_col='id')\n",
    "artists_df.drop(['url', 'pictureURL'], axis=1, inplace=True)\n",
    "artists_df.reset_index(inplace=True)\n",
    "artists_df.rename(columns={'id': 'artistID'}, inplace=True)"
   ]
  },
  {
   "cell_type": "code",
   "execution_count": 3,
   "metadata": {},
   "outputs": [],
   "source": [
    "# Load the user_artist dataset\n",
    "user_artist = pd.read_table('/Users/mollyrudisill/INLS570_fall2024/project2/hetrec2011-lastfm-2k/user_artists.dat', \n",
    "                           encoding=\"utf-8\", sep=\"\\t\")"
   ]
  },
  {
   "cell_type": "code",
   "execution_count": 4,
   "metadata": {},
   "outputs": [],
   "source": [
    "# Create the top artists DataFrame\n",
    "top_artists = user_artist.groupby('artistID')['weight'].sum().reset_index()"
   ]
  },
  {
   "cell_type": "code",
   "execution_count": 5,
   "metadata": {},
   "outputs": [],
   "source": [
    "# Load user-friends data\n",
    "user_friendsdf = pd.read_table('/Users/mollyrudisill/INLS570_fall2024/project2/hetrec2011-lastfm-2k/user_friends.dat')"
   ]
  },
  {
   "cell_type": "code",
   "execution_count": 6,
   "metadata": {},
   "outputs": [],
   "source": [
    "# Count listeners for each artist\n",
    "popular_artist = user_artist['artistID'].value_counts().reset_index()\n",
    "popular_artist.columns = ['artistID', 'listeners']"
   ]
  },
  {
   "cell_type": "code",
   "execution_count": 7,
   "metadata": {},
   "outputs": [],
   "source": [
    "# Merge popular artists with artist names\n",
    "artist_stats = pd.merge(popular_artist, artists_df[['artistID', 'name']], on='artistID', how='left')"
   ]
  },
  {
   "cell_type": "code",
   "execution_count": 8,
   "metadata": {},
   "outputs": [],
   "source": [
    "# Merge with top artists for weight\n",
    "artist_stats = pd.merge(artist_stats, top_artists, on='artistID', how='left')"
   ]
  },
  {
   "cell_type": "code",
   "execution_count": 9,
   "metadata": {},
   "outputs": [],
   "source": [
    "# Reorder and clean the DataFrame\n",
    "artist_stats = artist_stats[['name', 'artistID', 'listeners', 'weight']].sort_values(by='artistID')"
   ]
  },
  {
   "cell_type": "code",
   "execution_count": 10,
   "metadata": {},
   "outputs": [],
   "source": [
    "# Check for missing artist names\n",
    "missing_artists = artist_stats[artist_stats['name'].isnull()]\n",
    "if not missing_artists.empty:\n",
    "    print(\"Artists with missing names:\", missing_artists)"
   ]
  },
  {
   "cell_type": "markdown",
   "metadata": {},
   "source": [
    "## Question 1: Who are the top artists in terms of play counts?"
   ]
  },
  {
   "cell_type": "code",
   "execution_count": 11,
   "metadata": {},
   "outputs": [
    {
     "name": "stdout",
     "output_type": "stream",
     "text": [
      "1. Who are the top artists?\n",
      "    Britney Spears 289 2393140\n",
      "      Depeche Mode  72 1301308\n",
      "         Lady Gaga  89 1291387\n",
      "Christina Aguilera 292 1058405\n",
      "          Paramore 498  963449\n",
      "           Madonna  67  921198\n",
      "           Rihanna 288  905423\n",
      "           Shakira 701  688529\n",
      "       The Beatles 227  662116\n",
      "        Katy Perry 300  532545\n",
      "\n"
     ]
    }
   ],
   "source": [
    "# Question 1: Who are the top artists in terms of play counts?\n",
    "print(\"1. Who are the top artists?\")\n",
    "# Gather the artists with the top weight (most listeners)\n",
    "q1 = artist_stats.sort_values(by='weight', ascending=False).drop(['listeners'], axis=1)\n",
    "# Select top 10 artists\n",
    "q1 = q1.head(10)\n",
    "# Print results\n",
    "print(q1.to_string(index=False, header=False))\n",
    "print()"
   ]
  },
  {
   "cell_type": "markdown",
   "metadata": {},
   "source": [
    "## Question 2: What artists have the most listeners?"
   ]
  },
  {
   "cell_type": "code",
   "execution_count": 12,
   "metadata": {},
   "outputs": [
    {
     "name": "stdout",
     "output_type": "stream",
     "text": [
      "2. What artists have the most listeners?\n",
      "         Lady Gaga  89 611\n",
      "    Britney Spears 289 522\n",
      "           Rihanna 288 484\n",
      "       The Beatles 227 480\n",
      "        Katy Perry 300 473\n",
      "           Madonna  67 429\n",
      "     Avril Lavigne 333 417\n",
      "Christina Aguilera 292 407\n",
      "              Muse 190 400\n",
      "          Paramore 498 399\n",
      "\n"
     ]
    }
   ],
   "source": [
    "# Question 2: What artists have the most listeners?\n",
    "print(\"2. What artists have the most listeners?\")\n",
    "# Sort by listeners\n",
    "q2 = artist_stats.sort_values(by='listeners', ascending=False).drop(['weight'], axis=1)\n",
    "# Select top 10 artists\n",
    "q2 = q2.head(10)\n",
    "# Print results\n",
    "print(q2.to_string(index=False, header=False))\n",
    "print()"
   ]
  },
  {
   "cell_type": "markdown",
   "metadata": {},
   "source": [
    "## Question 3: Who are the top users in terms of play counts?"
   ]
  },
  {
   "cell_type": "code",
   "execution_count": 13,
   "metadata": {},
   "outputs": [
    {
     "name": "stdout",
     "output_type": "stream",
     "text": [
      "3. Who are the top users in terms of play counts?\n",
      " 757 480039\n",
      "2000 468409\n",
      "1418 416349\n",
      "1642 388251\n",
      "1094 379125\n",
      "1942 348527\n",
      "2071 338400\n",
      "2031 329980\n",
      " 514 329782\n",
      " 387 322661\n"
     ]
    }
   ],
   "source": [
    "# Question 3: Who are the top users in terms of play counts?\n",
    "print(\"3. Who are the top users in terms of play counts?\")\n",
    "# Group by userID and sum the play counts\n",
    "q3 = user_artist.groupby('userID')['weight'].sum().reset_index()\n",
    "# Sort in descending order\n",
    "q3 = q3.sort_values(by='weight', ascending=False).head(10)\n",
    "# Print results\n",
    "print(q3.to_string(index=False, header=False))"
   ]
  },
  {
   "cell_type": "markdown",
   "metadata": {},
   "source": [
    "## Question 4: What artists have the highest average number of plays per listener?"
   ]
  },
  {
   "cell_type": "code",
   "execution_count": 14,
   "metadata": {},
   "outputs": [
    {
     "name": "stdout",
     "output_type": "stream",
     "text": [
      "4. What artists have the highest average number of plays per listener?\n",
      "                  name  artistID  listeners  weight  average listeners\n",
      "          Viking Quest      8388          1   35323            35323.0\n",
      "            Tyler Adam      6373          1   30614            30614.0\n",
      "                Rytmus     18121          1   23462            23462.0\n",
      "       Johnny Hallyday      8308          2   32995            16498.0\n",
      "           Dicky Dixon     14986          1   15345            15345.0\n",
      "RICHARD DIXON-COMPOSER     14987          1   14082            14082.0\n",
      "                Thalía       792         26  350035            13463.0\n",
      "                80kidz     15075          1   12520            12520.0\n",
      "              Tribraco      4625          1   10776            10776.0\n",
      "            Kontrafakt     18122          1   10726            10726.0\n"
     ]
    }
   ],
   "source": [
    "# Question 4: What artists have the highest average number of plays per listener?\n",
    "print(\"4. What artists have the highest average number of plays per listener?\")\n",
    "# Calculate average listeners\n",
    "artist_stats['average listeners'] = np.round(artist_stats.weight / artist_stats.listeners)\n",
    "# Sort by average listeners\n",
    "q4 = artist_stats.sort_values(by='average listeners', ascending=False).head(10)\n",
    "# Print results\n",
    "print(q4.to_string(index=False))\n"
   ]
  },
  {
   "cell_type": "markdown",
   "metadata": {},
   "source": [
    "## Question 5: What artists with at least 50 listeners have the highest average number of plays per listener?"
   ]
  },
  {
   "cell_type": "code",
   "execution_count": 15,
   "metadata": {},
   "outputs": [
    {
     "name": "stdout",
     "output_type": "stream",
     "text": [
      "5. What artists with at least 50 listeners have the highest average number of plays per listener?\n",
      "              name  artistID  listeners  weight  average plays per listener\n",
      "      Depeche Mode        72        282 1301308                      4615.0\n",
      "    Britney Spears       289        522 2393140                      4585.0\n",
      "         In Flames       503         67  237148                      3540.0\n",
      "       Duran Duran        51        111  348919                      3143.0\n",
      "      All Time Low       687         77  215777                      2802.0\n",
      "              Blur       203        114  318221                      2791.0\n",
      "                U2       511        185  493024                      2665.0\n",
      "Christina Aguilera       292        407 1058405                      2601.0\n",
      "          Paramore       498        399  963449                      2415.0\n",
      "       Evanescence       378        226  513476                      2272.0\n"
     ]
    }
   ],
   "source": [
    "# Question 5: What artists with at least 50 listeners have the highest average number of plays per listener?\n",
    "print(\"5. What artists with at least 50 listeners have the highest average number of plays per listener?\")\n",
    "# Filter by listeners and sort by average plays\n",
    "q5 = artist_stats[artist_stats['listeners'] >= 50]\n",
    "q5 = q5.sort_values(by='average listeners', ascending=False).head(10)\n",
    "q5 = q5.rename(columns={'average listeners': 'average plays per listener'})\n",
    "# Print results\n",
    "print(q5.to_string(index=False))\n"
   ]
  },
  {
   "cell_type": "markdown",
   "metadata": {},
   "source": [
    "## Question 6:  How similar are two artists?"
   ]
  },
  {
   "cell_type": "code",
   "execution_count": 16,
   "metadata": {},
   "outputs": [
    {
     "name": "stdout",
     "output_type": "stream",
     "text": [
      "6. How similar are two artists?\n",
      "The Rolling Stones and The Who : 0.24581005586592178\n",
      "The Rolling Stones and Lady Gaga : 0.01643835616438356\n",
      "The Rolling Stones and Britney Spears : 0.013975155279503106\n",
      "Lady Gaga and Britney Spears : 0.6255380200860832\n",
      "Lady Gaga and Madonna : 0.4246575342465753\n",
      "Madonna and The Rolling Stones : 0.029411764705882353\n"
     ]
    }
   ],
   "source": [
    "# Question 6: How similar are two artists?\n",
    "print(\"6. How similar are two artists?\")\n",
    "# Reset index for easier access\n",
    "artist_stat = artist_stats.set_index('artistID')\n",
    "\n",
    "def artist_sim(aid1, aid2):\n",
    "    # Create sets of userIDs for each artist\n",
    "    aid1_set = set(user_artist[user_artist['artistID'] == aid1]['userID'])\n",
    "    aid2_set = set(user_artist[user_artist['artistID'] == aid2]['userID'])\n",
    "    \n",
    "    # Calculate Jaccard Index\n",
    "    intersection = aid1_set & aid2_set\n",
    "    union = aid1_set | aid2_set\n",
    "    jacardi_index = len(intersection) / len(union)\n",
    "    \n",
    "    # Fetch artist names\n",
    "    name1 = artist_stat.loc[aid1]['name']\n",
    "    name2 = artist_stat.loc[aid2]['name']\n",
    "    \n",
    "    print(f\"{name1} and {name2} : {jacardi_index}\")\n",
    "\n",
    "# Compare selected artists\n",
    "artist_sim(735, 562)\n",
    "artist_sim(735, 89)\n",
    "artist_sim(735, 289)\n",
    "artist_sim(89, 289)\n",
    "artist_sim(89, 67)\n",
    "artist_sim(67, 735)"
   ]
  },
  {
   "cell_type": "markdown",
   "metadata": {},
   "source": [
    "## Question 7: Recommend artists based on two friends"
   ]
  },
  {
   "cell_type": "code",
   "execution_count": 17,
   "metadata": {},
   "outputs": [
    {
     "name": "stdout",
     "output_type": "stream",
     "text": [
      "7. Recommend artist based on two friends\n",
      " artistID           name  average listeners\n",
      "     1104      Rammstein       18478.000000\n",
      "      511             U2        6611.750000\n",
      "      159       The Cure        4155.200000\n",
      "      285  Janet Jackson        3499.000000\n",
      "     1001  Pet Shop Boys        3432.666667\n",
      "      289 Britney Spears        3120.000000\n",
      "      874     Roxy Music        2740.500000\n",
      "     2562        Arcadia        2594.000000\n",
      "      190           Muse        2547.500000\n",
      "     2552   Culture Club        2361.500000\n"
     ]
    }
   ],
   "source": [
    "# Question 7: Recommend artists based on two friends\n",
    "print(\"7. Recommend artist based on two friends\")\n",
    "artist_stat = artist_stat.reset_index(inplace=False)\n",
    "\n",
    "def rec(userid):\n",
    "    friends = user_friendsdf[user_friendsdf['userID'] == userid]['friendID'].tolist()\n",
    "    usersartist = set(user_artist[user_artist['userID'] == userid]['artistID'].tolist())\n",
    "    friends_artists = user_artist[user_artist['userID'].isin(friends)]\n",
    "    artist_friend_count = friends_artists.groupby('artistID')['userID'].nunique()\n",
    "    artists_2_friends = artist_friend_count[artist_friend_count >= 2].index\n",
    "    candidate_artists = set(artists_2_friends) - usersartist\n",
    "    rec_artists_data = friends_artists[friends_artists['artistID'].isin(candidate_artists)]\n",
    "    reccomendations = rec_artists_data.groupby('artistID')['weight'].mean().sort_values(ascending=False)\n",
    "    reccomendations = pd.DataFrame(reccomendations).reset_index(inplace=False)\n",
    "    reccomendations = pd.merge(reccomendations, artist_stat[['artistID','name']], on='artistID')\n",
    "    reccomendations['average listeners'] = reccomendations['weight']\n",
    "    reccomendations = reccomendations.drop(columns=['weight'])\n",
    "    return reccomendations.head(10)\n",
    "\n",
    "print(rec(2).to_string(index=False))\n"
   ]
  }
 ],
 "metadata": {
  "kernelspec": {
   "display_name": "Python 3",
   "language": "python",
   "name": "python3"
  },
  "language_info": {
   "codemirror_mode": {
    "name": "ipython",
    "version": 3
   },
   "file_extension": ".py",
   "mimetype": "text/x-python",
   "name": "python",
   "nbconvert_exporter": "python",
   "pygments_lexer": "ipython3",
   "version": "3.11.1"
  }
 },
 "nbformat": 4,
 "nbformat_minor": 2
}
